{
 "cells": [
  {
   "cell_type": "markdown",
   "metadata": {
    "collapsed": true
   },
   "source": [
    " **Exercise** : Generate a random array of size 100 and find mean of z as obtained from below equations:\n",
    "    1. y = x*x + 5x\n",
    "    2. z = y*y\n",
    "    \n",
    "  Implement both the equations seperately and * means element wise multiplication and not matrix multiplication. Below are some restrictions for this exercise:\n",
    "   1. y should be of type tf.Variable()\n",
    "   2. Use tf.random_normal() to get random tensor of size 100. Use seed as 12."
   ]
  },
  {
   "cell_type": "markdown",
   "metadata": {},
   "source": [
    "# **Caution : Solution for exercise is below. Please try solving problem by yourself before looking below**"
   ]
  },
  {
   "cell_type": "code",
   "execution_count": 49,
   "metadata": {},
   "outputs": [
    {
     "name": "stdout",
     "output_type": "stream",
     "text": [
      "27.7974\n"
     ]
    }
   ],
   "source": [
    "import tensorflow as tf\n",
    "\n",
    "# get 100 random tensors. 12 is used as seed.\n",
    "x = tf.random_normal([100], seed=12,name=\"x\")\n",
    "y = tf.Variable(x*x+5*x,name=\"y\")\n",
    "z = tf.multiply(y,y,name=\"z\")\n",
    "zmean = tf.reduce_mean(z)\n",
    "\n",
    "init_op = tf.global_variables_initializer()\n",
    "\n",
    "with tf.Session() as sess:\n",
    "    sess.run(init_op) \n",
    "    zout = sess.run(zmean)\n",
    "    print(zout)"
   ]
  },
  {
   "cell_type": "markdown",
   "metadata": {},
   "source": [
    "**Summary of what each line does in above code:**\n",
    "\n",
    "__Line 1__ : Import tensorflow library with alias tf.\n",
    "\n",
    "__Line 4__ : Generate random tensor of size 100.\n",
    "\n",
    "__Line 5__ : Create a variable y. Initial value of y is given as x*x+5*x.\n",
    "\n",
    "__Line 6__ : Multiply y and y. \n",
    "\n",
    "__Line 7__ : Calculate mean of z.\n",
    "\n",
    "__Line 9__ : When you launch the graph, variables have to be explicitly initialized before you can run Ops that use their value. You can initialize a variable by running its initializer.\n",
    "\n",
    "__Line 11__ : Create a new session to run our graph.\n",
    "\n",
    "__Line 12__ : Run the operation to initialize global variables.\n",
    "\n",
    "__Line 13__ : Run graph to calculate value of zmean. This will calculate x, y and finally zmean.\n",
    "\n",
    "\n",
    "For your own unerstanding you can try looking at graph of this code in tensorboard."
   ]
  }
 ],
 "metadata": {
  "kernelspec": {
   "display_name": "Python 3",
   "language": "python",
   "name": "python3"
  },
  "language_info": {
   "codemirror_mode": {
    "name": "ipython",
    "version": 3
   },
   "file_extension": ".py",
   "mimetype": "text/x-python",
   "name": "python",
   "nbconvert_exporter": "python",
   "pygments_lexer": "ipython3",
   "version": "3.5.3"
  }
 },
 "nbformat": 4,
 "nbformat_minor": 2
}
