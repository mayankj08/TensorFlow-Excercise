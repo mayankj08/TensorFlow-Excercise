{
 "cells": [
  {
   "cell_type": "markdown",
   "metadata": {},
   "source": [
    "**Exercise : Sum of two numbers**\n",
    "    \n",
    "Given two number say 5 and 15 find the sum of these two numbers. You are given that numbers to add in advance\n",
    "and the numbers won't change.\n",
    "\n",
    "** Excepted output **\n",
    "20"
   ]
  },
  {
   "cell_type": "markdown",
   "metadata": {},
   "source": [
    "# Caution : Solution for exercise is below. Please try solving problem by yourself before looking below"
   ]
  },
  {
   "cell_type": "code",
   "execution_count": 23,
   "metadata": {},
   "outputs": [
    {
     "name": "stdout",
     "output_type": "stream",
     "text": [
      "Value of c before running tensor: Tensor(\"c_5:0\", shape=(), dtype=int32)\n"
     ]
    }
   ],
   "source": [
    "# Code starts here\n",
    "import tensorflow as tf\n",
    "\n",
    "# As we are told that numbers won't change \n",
    "# so it's safe to assume it as tensorflow constant\n",
    "a = tf.constant(5,name=\"a\")\n",
    "b = tf.constant(15,name=\"b\")\n",
    "\n",
    "# Now we have to add a and b.\n",
    "# tenorflow provides add function for same.\n",
    "# https://www.tensorflow.org/api_docs/python/tf/add\n",
    "c = tf.add(a,b,name=\"c\")\n",
    "\n",
    "# Tensor flow creates graph and doesn't run the graph till\n",
    "# you run the graph in a session. \n",
    "# So if we try printing value of c at this point\n",
    "# we will get the output as a tensor and not actual value of c\n",
    "# This is because value of c is not computed till we demand \n",
    "# value of c, (and this is done by sess.run() )\n",
    "print(\"Value of c before running tensor:\",c)"
   ]
  },
  {
   "cell_type": "code",
   "execution_count": 25,
   "metadata": {},
   "outputs": [
    {
     "name": "stdout",
     "output_type": "stream",
     "text": [
      "Value of c after running graph: 20\n"
     ]
    }
   ],
   "source": [
    "# A new session is created using tf.Session() call.\n",
    "sess = tf.Session()\n",
    "\n",
    "# now we need to run graph we created\n",
    "# c is passed as input to run as we need \n",
    "# to run graph till value of c is obtained.\n",
    "output = sess.run(c)\n",
    "print(\"Value of c after running graph:\",output)\n",
    "\n",
    "# Once we are done we need to close the session.\n",
    "sess.close()\n",
    "\n",
    "# code ends here"
   ]
  },
  {
   "attachments": {
    "graph_run=.png": {
     "image/png": "[encoded data removed]"
    }
   },
   "cell_type": "markdown",
   "metadata": {},
   "source": [
    "While learning tensorflow I kept hearing that tensorflow creates graph, but it was hard to visualize. I used to wonder if I can see the graph which tensorflow creates. And the answer is **YES**. We can actually see the graph created by tensorflow.\n",
    "\n",
    "Tensorflow provides a tool called Tensorboard which can be used to see the graph created by tensorflow. Please google and learn about tensorboard in detail. Refer: https://www.tensorflow.org/get_started/summaries_and_tensorboard for details on same.\n",
    "\n",
    "For now, Let's check the graph created for above program by tensorboard. The graph created for above program is:\n",
    "\n",
    "![graph_run=.png](attachment:graph_run=.png)\n",
    "\n",
    "As it can be seen in the graph that c is dependent on a and b. So when we execute **sess.run(c)** tensorflow evalutes c based on a and b. Tensor a and b are evaluted first and then c is computed based on value of a and b. "
   ]
  },
  {
   "cell_type": "markdown",
   "metadata": {},
   "source": [
    "Let's try last thing for this excecise. What happens if we define d and don't use value of d at all. Consider code below"
   ]
  },
  {
   "cell_type": "code",
   "execution_count": 26,
   "metadata": {},
   "outputs": [
    {
     "name": "stdout",
     "output_type": "stream",
     "text": [
      "20\n"
     ]
    }
   ],
   "source": [
    "import tensorflow as tf\n",
    "\n",
    "a = tf.constant(5,name=\"a\")\n",
    "b = tf.constant(15,name=\"b\")\n",
    "c = tf.add(a,b,name=\"c\")\n",
    "d = tf.sub(a,b,name=\"d\")\n",
    "\n",
    "sess = tf.Session()\n",
    "output = sess.run(c);\n",
    "print(output)\n",
    "sess.close()"
   ]
  },
  {
   "cell_type": "markdown",
   "metadata": {},
   "source": [
    "In this case we are running session on c, so only c and all nodes on which c is dependent (a and b in our\n",
    "case) are evaluated. d tensor (which is subtraction of a and b) is not computed at all. To evaluate d we need\n",
    "either compute d in same or a new session like sess.run(d).\n",
    "\n",
    "Hope you enjoyed this!. Please help me in improving be sending feedback at mayank_j08@yahoo.co.in"
   ]
  }
 ],
 "metadata": {
  "kernelspec": {
   "display_name": "Python 3",
   "language": "python",
   "name": "python3"
  },
  "language_info": {
   "codemirror_mode": {
    "name": "ipython",
    "version": 3
   },
   "file_extension": ".py",
   "mimetype": "text/x-python",
   "name": "python",
   "nbconvert_exporter": "python",
   "pygments_lexer": "ipython3",
   "version": "3.5.3"
  }
 },
 "nbformat": 4,
 "nbformat_minor": 2
}
